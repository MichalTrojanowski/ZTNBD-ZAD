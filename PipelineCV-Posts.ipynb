{
 "cells": [
  {
   "cell_type": "markdown",
   "metadata": {},
   "source": [
    "### Inicjalizacja środowiska"
   ]
  },
  {
   "cell_type": "code",
   "execution_count": 1,
   "metadata": {},
   "outputs": [
    {
     "name": "stdout",
     "output_type": "stream",
     "text": [
      "Requirement already satisfied: textblob in /home/mc/Programs/anaconda/envs/tfdeeplearning/lib/python3.5/site-packages\n",
      "Requirement already satisfied: nltk>=3.1 in /home/mc/Programs/anaconda/envs/tfdeeplearning/lib/python3.5/site-packages (from textblob)\n",
      "Requirement already satisfied: six in /home/mc/Programs/anaconda/envs/tfdeeplearning/lib/python3.5/site-packages (from nltk>=3.1->textblob)\n",
      "[nltk_data] Downloading package brown to /home/mc/nltk_data...\n",
      "[nltk_data]   Package brown is already up-to-date!\n",
      "[nltk_data] Downloading package punkt to /home/mc/nltk_data...\n",
      "[nltk_data]   Package punkt is already up-to-date!\n",
      "[nltk_data] Downloading package wordnet to /home/mc/nltk_data...\n",
      "[nltk_data]   Package wordnet is already up-to-date!\n",
      "[nltk_data] Downloading package averaged_perceptron_tagger to\n",
      "[nltk_data]     /home/mc/nltk_data...\n",
      "[nltk_data]   Package averaged_perceptron_tagger is already up-to-\n",
      "[nltk_data]       date!\n",
      "Finished.\n"
     ]
    }
   ],
   "source": [
    "!pip install textblob\n",
    "!python -m textblob.download_corpora lite"
   ]
  },
  {
   "cell_type": "code",
   "execution_count": 2,
   "metadata": {
    "collapsed": true
   },
   "outputs": [],
   "source": [
    "from pyspark import SparkContext, SparkConf\n",
    "from pyspark.sql import SQLContext, SparkSession\n",
    "from pyspark.ml import Pipeline, Transformer\n",
    "from pyspark.ml.param import Param\n",
    "from pyspark.ml.param.shared import HasInputCol, HasOutputCol\n",
    "\n",
    "from pyspark.ml.tuning import ParamGridBuilder, CrossValidator\n",
    "from pyspark.sql.types import * \n",
    "from pyspark.ml.linalg import Vectors, VectorUDT\n",
    "\n",
    "from pyspark.sql.functions import floor, rand, udf, max\n",
    "from pyspark.ml.classification import LogisticRegression, DecisionTreeClassifier\n",
    "from pyspark.ml.evaluation import MulticlassClassificationEvaluator\n",
    "\n",
    "import json\n",
    "\n",
    "from post_extractor.posts import (\n",
    "    PostTransformer,\n",
    "    TranslateTransformer,\n",
    "    BasicSpeechPartsTransformer\n",
    ")\n",
    "\n",
    "sconf = SparkConf()              \\\n",
    "    .setMaster('local[*]')       \\\n",
    "    .setAppName('PipelineFlow')\n",
    "\n",
    "sc = SparkContext.getOrCreate(sconf)\n",
    "sess = SparkSession(sc)\n",
    "sqlContext = SQLContext(sc)\n",
    "    "
   ]
  },
  {
   "cell_type": "markdown",
   "metadata": {},
   "source": [
    "### Wczytywanie plików"
   ]
  },
  {
   "cell_type": "code",
   "execution_count": 3,
   "metadata": {
    "collapsed": true
   },
   "outputs": [],
   "source": [
    "def load_posts(spark_ctx, files):\n",
    "    rdd = spark_ctx.wholeTextFiles(files)\n",
    "    rdd = rdd.map(lambda x: (x[0], json.loads(x[1])))\n",
    "    df = rdd.toDF(['file', 'content'], sampleRatio=0.2)\n",
    "    return df"
   ]
  },
  {
   "cell_type": "markdown",
   "metadata": {},
   "source": [
    "### Przykład zastosowania TransformerProxy do automatyzacji ewaluacji"
   ]
  },
  {
   "cell_type": "markdown",
   "metadata": {},
   "source": [
    "`TransformerProxy` jest obiektem który opakowuje inny Transformer. Dzięki temu, możliwe jest stworzenie uniwersalnego pipeline'u (jak na rysunku poniżej) bez specyfikowania od razu konkretnych implementacji poszczególnych etapów. Np. wiemy, że pierwszy etap parsuje plik html dzieląc go na słowa, drugi etap usuwa obrazki a trzeci rozpoznaje i zlicza czasowniki, ale nie wiemy jakie konkretne implementacje będziemy chcieli dostarczyć dla poszczególnych etapów.\n",
    " \n",
    "W szczególności jeśli bedziemy chcieli mieć wiele różnych implementacji dla tego samego etapu opisane podejście będzie użyteczne. Testowanie takiego przepływu będzie odbywało się za pomocą klasy CrossValidator która zostanie opisana później. Na razie wspomnijmy jedynie o tym, że CrossValidator nie potrafi modyfikować pipeline'u poprzez zamianę np. jednego transformera na drugi, potrafi natomiast modyfikować parametry kolejnych etapów przepływu. Dzięki zastosowanemu podejściu CrossValidator będzie w stanie testować kombinację różnych implementacji poszególnych etapów pipeline'u.\n",
    "\n",
    "![title](pipeline.jpg)"
   ]
  },
  {
   "cell_type": "markdown",
   "metadata": {},
   "source": [
    "### Klasa TransformerProxy"
   ]
  },
  {
   "cell_type": "code",
   "execution_count": 4,
   "metadata": {
    "collapsed": true
   },
   "outputs": [],
   "source": [
    "class DenseVectorTransformer(Transformer, HasInputCol, HasOutputCol):\n",
    "    def __init__(self):\n",
    "        super(DenseVectorTransformer, self).__init__()\n",
    "    def _transform(self, dataset):\n",
    "        toDenseVector = udf(lambda arr: Vectors.dense(arr), VectorUDT())\n",
    "        return dataset.withColumn(self.getOutputCol(), toDenseVector(self.getInputCol()))"
   ]
  },
  {
   "cell_type": "code",
   "execution_count": 5,
   "metadata": {
    "collapsed": true
   },
   "outputs": [],
   "source": [
    "class TransformerProxy(Transformer):\n",
    "\n",
    "    def __init__(self):\n",
    "        super(TransformerProxy, self).__init__()\n",
    "        self.transformer = Param(self, \"transformer\", \"\")\n",
    "\n",
    "    def set_transformer(self, transformer):\n",
    "        self._paramMap[self.transformer] = transformer\n",
    "        return self\n",
    "\n",
    "    def get_transformer(self):\n",
    "        return self.getOrDefault(self.transformer)\n",
    "\n",
    "    def _transform(self, dataset):\n",
    "        return self.get_transformer().transform(dataset)"
   ]
  },
  {
   "cell_type": "markdown",
   "metadata": {},
   "source": [
    "### Utworzenie instancji transformerów"
   ]
  },
  {
   "cell_type": "markdown",
   "metadata": {},
   "source": [
    "W przygotowanym pipeline możemy wykorzystać w pierwszym TransformerProxy trzy różne implementacje: \n",
    "- MeanFeaturesTransformer \n",
    "- MedianFeaturesTransformer \n",
    "- NumerOfOccurrencesFeaturesTransformer \n",
    "\n",
    "Możemy je zatem przekazać do abstrakcji ParamGridBuilder'a, który będzie parametrem przekazanym do klasy CrossValidator.   "
   ]
  },
  {
   "cell_type": "code",
   "execution_count": 6,
   "metadata": {},
   "outputs": [
    {
     "name": "stdout",
     "output_type": "stream",
     "text": [
      "('\\n'\n",
      " '    Klasa TranslateTransformer dziedziczy po klasach pyspark.ml.Transformer, '\n",
      " 'pyspark.ml.param.shared.HasInputCol,\\n'\n",
      " '    pyspark.ml.param.shared.HasOutputCol. Posiada metodę transform, która '\n",
      " 'przyjmuje na wejściu obiekt typu dataframe.\\n'\n",
      " '    Metoda ta tłumaczy tekst zawarty w kolumnie inputCol  z języka polskiego '\n",
      " 'na angielski i umieszcza go w kolumnie\\n'\n",
      " '    outputCol.\\n'\n",
      " '    ')\n"
     ]
    }
   ],
   "source": [
    "import pprint\n",
    "pprint.pprint(TranslateTransformer.__doc__)"
   ]
  },
  {
   "cell_type": "code",
   "execution_count": 7,
   "metadata": {},
   "outputs": [
    {
     "name": "stdout",
     "output_type": "stream",
     "text": [
      "('\\n'\n",
      " '    Klasa BasicSpeechPartsTransformer dziedziczy  po klasach '\n",
      " 'pyspark.ml.Transformer, pyspark.ml.param.shared.HasInputCol,\\n'\n",
      " '    pyspark.ml.param.shared.HasOutputCol. Posiada metodę transform, która '\n",
      " 'przyjmuje na wejściu obiekt typu dataframe.\\n'\n",
      " '    Metoda ta z tekstu zawartego w kolumnie inputCol zlicza wystąpienie '\n",
      " 'podstawowych części mowy (rzeczownik, czasownik, przymiotnik)\\n'\n",
      " '    i wstawia do outputCol w postaci tablicy wartości.\\n'\n",
      " '    ')\n"
     ]
    }
   ],
   "source": [
    "pprint.pprint(BasicSpeechPartsTransformer.__doc__)"
   ]
  },
  {
   "cell_type": "code",
   "execution_count": 8,
   "metadata": {},
   "outputs": [],
   "source": [
    "poster = PostTransformer()\n",
    "poster.setInputCol('content').setOutputCol('posts')\n",
    "\n",
    "translator = TranslateTransformer()\n",
    "translator.setInputCol('posts').setOutputCol('translated')\n",
    "\n",
    "speech_parter = BasicSpeechPartsTransformer()\n",
    "speech_parter.setInputCol('translated').setOutputCol('speech_parts')\n",
    "\n",
    "dv_transformer = DenseVectorTransformer()\n",
    "dv_transformer.setInputCol('speech_parts').setOutputCol('features')\n",
    "\n",
    "dt = DecisionTreeClassifier(labelCol='label')"
   ]
  },
  {
   "cell_type": "markdown",
   "metadata": {},
   "source": [
    "### Przygotowanie modyfikowalnego pipeline'u\n",
    "W tej wersji, wszystkie istniejące wczesniej stage zastępujemy obiektami `TransformerProxy`"
   ]
  },
  {
   "cell_type": "code",
   "execution_count": 9,
   "metadata": {},
   "outputs": [],
   "source": [
    "parameterized_pipeline = Pipeline(stages=[\n",
    "    poster,\n",
    "    translator,\n",
    "    speech_parter,\n",
    "    dv_transformer,\n",
    "    dt\n",
    "])"
   ]
  },
  {
   "cell_type": "code",
   "execution_count": 10,
   "metadata": {},
   "outputs": [],
   "source": [
    "data = load_posts(sc, 'data/posts/*') # data/posts/* || hdfs:///user/TZ/wmleczek/ztnbd/posts/*\n",
    "dataWithLabels = data.withColumn('label', floor(rand() * 3).cast(DoubleType()))"
   ]
  },
  {
   "cell_type": "markdown",
   "metadata": {},
   "source": [
    "CrossValidator uwzględniając wszystkie kombinacje dostarczonych parametrów wskazuje który zestaw parametrów cechuje się najlepszymi wynikami."
   ]
  },
  {
   "cell_type": "code",
   "execution_count": 11,
   "metadata": {},
   "outputs": [],
   "source": [
    "# CrossValidator will automatically find the best set of parameters\n",
    "evaluator = MulticlassClassificationEvaluator(predictionCol=\"prediction\", labelCol='label')\n",
    "\n",
    "cv_results = {}\n",
    "\n",
    "paramGrid = ParamGridBuilder() \\\n",
    "  .addGrid(dt.maxBins, [5, 10, 15, 20]) \\\n",
    "  .build()\n",
    "\n",
    "cv = CrossValidator(estimator=parameterized_pipeline,\n",
    "                   estimatorParamMaps=paramGrid,\n",
    "                   evaluator=evaluator,\n",
    "                   numFolds=3)\n",
    "cv_result = cv.fit(dataWithLabels)"
   ]
  },
  {
   "cell_type": "markdown",
   "metadata": {},
   "source": [
    "### Wypisanie nazw transformerow wybranych przez CV"
   ]
  },
  {
   "cell_type": "code",
   "execution_count": 12,
   "metadata": {},
   "outputs": [],
   "source": [
    "prediction = cv_result.transform(data)\n",
    "selected = prediction.select(\"file\", \"speech_parts\", \"probability\", \"prediction\")"
   ]
  },
  {
   "cell_type": "code",
   "execution_count": 14,
   "metadata": {},
   "outputs": [
    {
     "name": "stdout",
     "output_type": "stream",
     "text": [
      "Row(file='file:/home/mc/Projects/ZTNBD-ZAD/data/posts/kascysko.blogspot.com.146.json', speech_parts=[79, 54, 31], probability=DenseVector([1.0, 0.0]), prediction=0.0)\n",
      "Row(file='file:/home/mc/Projects/ZTNBD-ZAD/data/posts/kascysko.blogspot.com.142.json', speech_parts=[94, 83, 33], probability=DenseVector([0.0, 1.0]), prediction=1.0)\n",
      "Row(file='file:/home/mc/Projects/ZTNBD-ZAD/data/posts/kascysko.blogspot.com.118.json', speech_parts=[48, 43, 17], probability=DenseVector([0.0, 1.0]), prediction=1.0)\n"
     ]
    }
   ],
   "source": [
    "for row in selected.collect():\n",
    "    print(row)"
   ]
  }
 ],
 "metadata": {
  "kernelspec": {
   "display_name": "Python 3",
   "language": "python",
   "name": "python3"
  },
  "language_info": {
   "codemirror_mode": {
    "name": "ipython",
    "version": 3
   },
   "file_extension": ".py",
   "mimetype": "text/x-python",
   "name": "python",
   "nbconvert_exporter": "python",
   "pygments_lexer": "ipython3",
   "version": "3.5.4"
  },
  "name": "PipelineCV_nofilter",
  "notebookId": 4.28779215948259E14
 },
 "nbformat": 4,
 "nbformat_minor": 1
}
